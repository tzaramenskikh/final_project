{
 "cells": [
  {
   "cell_type": "markdown",
   "id": "18de4f43",
   "metadata": {},
   "source": [
    "# Группа ВКонтакте \"Хочу в НИУ ВШЭ\" "
   ]
  },
  {
   "cell_type": "markdown",
   "id": "81550b95",
   "metadata": {},
   "source": [
    "**А также группы \"Хочу в Институт медиа\" и \"Хочу на факультет права Вышки\"**"
   ]
  },
  {
   "cell_type": "code",
   "execution_count": 1,
   "id": "3f77dea0",
   "metadata": {},
   "outputs": [],
   "source": [
    "import datetime\n",
    "import pickle\n",
    "import requests\n",
    "import pandas as pd\n",
    "import numpy as np\n",
    "import matplotlib.pyplot as plt\n",
    "import time\n",
    "\n",
    "from tqdm import tqdm_notebook"
   ]
  },
  {
   "cell_type": "code",
   "execution_count": 3,
   "id": "86020ce3",
   "metadata": {},
   "outputs": [
    {
     "data": {
      "text/plain": [
       "'vk1.a.McdvROz-3o4AzBwArAUEwwp_P2Jz80gJeUKvbak4v6-RjAYYiL_zzahDwHx2Eg_gDU2mxw_H7sWCMgQRZAS0c3J2zoCuwlm_Jk5YtcjooL4ZEYc1m0E2D3B5YZFfecJTjNWOgW_XagIdy4S3F_IwYACtHxvw_bqP5lfIvGcaTuqy-ZVyaR2iRiUjY2FZhrfE'"
      ]
     },
     "execution_count": 3,
     "metadata": {},
     "output_type": "execute_result"
    }
   ],
   "source": [
    "my_user_id = 174249323\n",
    "version = '5.103' \n",
    "\n",
    "with open('ba_hse.txt') as f:\n",
    "    token = f.read()\n",
    "token"
   ]
  },
  {
   "cell_type": "code",
   "execution_count": 4,
   "id": "eb1124a5",
   "metadata": {},
   "outputs": [],
   "source": [
    "url = \"https://api.vk.com/method/users.get?user_ids={user_id}&access_token={token}&v={version}\"\n",
    "url = url.format(user_id=my_user_id, token=token, version=version)"
   ]
  },
  {
   "cell_type": "code",
   "execution_count": 5,
   "id": "607e8fb9",
   "metadata": {},
   "outputs": [
    {
     "data": {
      "text/plain": [
       "<Response [200]>"
      ]
     },
     "execution_count": 5,
     "metadata": {},
     "output_type": "execute_result"
    }
   ],
   "source": [
    "response = requests.get(url) \n",
    "response"
   ]
  },
  {
   "cell_type": "code",
   "execution_count": null,
   "id": "4561215e",
   "metadata": {},
   "outputs": [],
   "source": []
  }
 ],
 "metadata": {
  "kernelspec": {
   "display_name": "Python 3 (ipykernel)",
   "language": "python",
   "name": "python3"
  },
  "language_info": {
   "codemirror_mode": {
    "name": "ipython",
    "version": 3
   },
   "file_extension": ".py",
   "mimetype": "text/x-python",
   "name": "python",
   "nbconvert_exporter": "python",
   "pygments_lexer": "ipython3",
   "version": "3.9.13"
  }
 },
 "nbformat": 4,
 "nbformat_minor": 5
}
